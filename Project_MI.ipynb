{
 "cells": [
  {
   "cell_type": "code",
   "execution_count": null,
   "metadata": {},
   "outputs": [],
   "source": [
    "# Importing necessary libraries\n",
    "import pydicom\n",
    "import numpy as np\n",
    "import matplotlib.pyplot as plt\n",
    "import cv2  # OpenCV for resizing images\n",
    "\n",
    "# Function to load and preprocess a DICOM image\n",
    "def preprocess_dicom(file_path):\n",
    "    # Load the DICOM file\n",
    "    dicom = pydicom.dcmread(file_path)\n",
    "    \n",
    "    # Extract the pixel array from the DICOM file\n",
    "    image = dicom.pixel_array\n",
    "    \n",
    "    # Normalize the pixel values to the range [0, 1]\n",
    "    image = image.astype(np.float32)\n",
    "    image -= np.min(image)\n",
    "    image /= np.max(image)\n",
    "    \n",
    "    # Resize the image to a standard size (e.g., 256x256)\n",
    "    image_resized = cv2.resize(image, (256, 256))\n",
    "    \n",
    "    return image_resized\n",
    "\n",
    "# Function to visualize the image\n",
    "def visualize_image(image, title='DICOM Image'):\n",
    "    plt.figure(figsize=(6, 6))\n",
    "    plt.imshow(image, cmap='gray')\n",
    "    plt.title(title)\n",
    "    plt.axis('off')\n",
    "    plt.show()\n",
    "\n",
    "# List of file paths (for demonstration, using the provided file paths)\n",
    "file_paths = [\n",
    "    '/mnt/data/1.2.276.0.7230010.3.1.4.8323329.300.1517875162.258081.dcm',\n",
    "    '/mnt/data/1.2.276.0.7230010.3.1.4.8323329.301.1517875162.280319.dcm',\n",
    "    '/mnt/data/1.2.276.0.7230010.3.1.4.8323329.302.1517875162.286330.dcm'\n",
    "]\n",
    "\n",
    "# Preprocess and visualize each image\n",
    "for file_path in file_paths:\n",
    "    preprocessed_image = preprocess_dicom(file_path)\n",
    "    visualize_image(preprocessed_image, title=f'Preprocessed {file_path}')\n"
   ]
  }
 ],
 "metadata": {
  "language_info": {
   "name": "python"
  }
 },
 "nbformat": 4,
 "nbformat_minor": 2
}
